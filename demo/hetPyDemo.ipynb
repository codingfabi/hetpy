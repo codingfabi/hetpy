{
 "cells": [
  {
   "attachments": {},
   "cell_type": "markdown",
   "metadata": {
    "tags": [
     "hide_cell"
    ]
   },
   "source": [
    "#### Pip Installments"
   ]
  },
  {
   "cell_type": "code",
   "execution_count": 1,
   "metadata": {
    "tags": [
     "hide_cell"
    ]
   },
   "outputs": [
    {
     "name": "stdout",
     "output_type": "stream",
     "text": [
      "Requirement already satisfied: python-igraph in /opt/homebrew/lib/python3.10/site-packages (0.10.3)\n",
      "Requirement already satisfied: igraph==0.10.3 in /opt/homebrew/lib/python3.10/site-packages (from python-igraph) (0.10.3)\n",
      "Requirement already satisfied: texttable>=1.6.2 in /opt/homebrew/lib/python3.10/site-packages (from igraph==0.10.3->python-igraph) (1.6.7)\n",
      "\n",
      "\u001b[1m[\u001b[0m\u001b[34;49mnotice\u001b[0m\u001b[1;39;49m]\u001b[0m\u001b[39;49m A new release of pip available: \u001b[0m\u001b[31;49m22.2.2\u001b[0m\u001b[39;49m -> \u001b[0m\u001b[32;49m22.3.1\u001b[0m\n",
      "\u001b[1m[\u001b[0m\u001b[34;49mnotice\u001b[0m\u001b[1;39;49m]\u001b[0m\u001b[39;49m To update, run: \u001b[0m\u001b[32;49mpython3.10 -m pip install --upgrade pip\u001b[0m\n",
      "Note: you may need to restart the kernel to use updated packages.\n"
     ]
    }
   ],
   "source": [
    "pip install python-igraph"
   ]
  },
  {
   "cell_type": "code",
   "execution_count": 2,
   "metadata": {
    "tags": [
     "hide_cell"
    ]
   },
   "outputs": [
    {
     "name": "stdout",
     "output_type": "stream",
     "text": [
      "Looking in indexes: https://test.pypi.org/simple/\n",
      "Requirement already satisfied: hetpy==0.1.1b0 in /opt/homebrew/lib/python3.10/site-packages (0.1.1b0)\n",
      "Requirement already satisfied: python-igraph in /opt/homebrew/lib/python3.10/site-packages (from hetpy==0.1.1b0) (0.10.3)\n",
      "Requirement already satisfied: igraph==0.10.3 in /opt/homebrew/lib/python3.10/site-packages (from python-igraph->hetpy==0.1.1b0) (0.10.3)\n",
      "Requirement already satisfied: texttable>=1.6.2 in /opt/homebrew/lib/python3.10/site-packages (from igraph==0.10.3->python-igraph->hetpy==0.1.1b0) (1.6.7)\n",
      "\n",
      "\u001b[1m[\u001b[0m\u001b[34;49mnotice\u001b[0m\u001b[1;39;49m]\u001b[0m\u001b[39;49m A new release of pip available: \u001b[0m\u001b[31;49m22.2.2\u001b[0m\u001b[39;49m -> \u001b[0m\u001b[32;49m22.3.1\u001b[0m\n",
      "\u001b[1m[\u001b[0m\u001b[34;49mnotice\u001b[0m\u001b[1;39;49m]\u001b[0m\u001b[39;49m To update, run: \u001b[0m\u001b[32;49mpython3.10 -m pip install --upgrade pip\u001b[0m\n",
      "Note: you may need to restart the kernel to use updated packages.\n"
     ]
    }
   ],
   "source": [
    "pip install -i https://test.pypi.org/simple/ hetpy==0.1.1b0"
   ]
  },
  {
   "cell_type": "code",
   "execution_count": 3,
   "metadata": {
    "tags": [
     "hide_cell"
    ]
   },
   "outputs": [
    {
     "name": "stdout",
     "output_type": "stream",
     "text": [
      "Requirement already satisfied: pycairo in /opt/homebrew/lib/python3.10/site-packages (1.23.0)\n",
      "\n",
      "\u001b[1m[\u001b[0m\u001b[34;49mnotice\u001b[0m\u001b[1;39;49m]\u001b[0m\u001b[39;49m A new release of pip available: \u001b[0m\u001b[31;49m22.2.2\u001b[0m\u001b[39;49m -> \u001b[0m\u001b[32;49m22.3.1\u001b[0m\n",
      "\u001b[1m[\u001b[0m\u001b[34;49mnotice\u001b[0m\u001b[1;39;49m]\u001b[0m\u001b[39;49m To update, run: \u001b[0m\u001b[32;49mpython3.10 -m pip install --upgrade pip\u001b[0m\n",
      "Note: you may need to restart the kernel to use updated packages.\n"
     ]
    }
   ],
   "source": [
    "pip install pycairo"
   ]
  },
  {
   "cell_type": "code",
   "execution_count": 4,
   "metadata": {
    "tags": [
     "hide_cell"
    ]
   },
   "outputs": [
    {
     "name": "stdout",
     "output_type": "stream",
     "text": [
      "Requirement already satisfied: matplotlib in /opt/homebrew/lib/python3.10/site-packages (3.6.2)\n",
      "Requirement already satisfied: kiwisolver>=1.0.1 in /opt/homebrew/lib/python3.10/site-packages (from matplotlib) (1.4.4)\n",
      "Requirement already satisfied: contourpy>=1.0.1 in /opt/homebrew/lib/python3.10/site-packages (from matplotlib) (1.0.6)\n",
      "Requirement already satisfied: fonttools>=4.22.0 in /opt/homebrew/lib/python3.10/site-packages (from matplotlib) (4.38.0)\n",
      "Requirement already satisfied: python-dateutil>=2.7 in /opt/homebrew/lib/python3.10/site-packages (from matplotlib) (2.8.2)\n",
      "Requirement already satisfied: packaging>=20.0 in /opt/homebrew/lib/python3.10/site-packages (from matplotlib) (21.3)\n",
      "Requirement already satisfied: pillow>=6.2.0 in /opt/homebrew/lib/python3.10/site-packages (from matplotlib) (9.4.0)\n",
      "Requirement already satisfied: pyparsing>=2.2.1 in /opt/homebrew/lib/python3.10/site-packages (from matplotlib) (3.0.9)\n",
      "Requirement already satisfied: cycler>=0.10 in /opt/homebrew/lib/python3.10/site-packages (from matplotlib) (0.11.0)\n",
      "Requirement already satisfied: numpy>=1.19 in /opt/homebrew/lib/python3.10/site-packages (from matplotlib) (1.23.2)\n",
      "Requirement already satisfied: six>=1.5 in /opt/homebrew/lib/python3.10/site-packages (from python-dateutil>=2.7->matplotlib) (1.16.0)\n",
      "\n",
      "\u001b[1m[\u001b[0m\u001b[34;49mnotice\u001b[0m\u001b[1;39;49m]\u001b[0m\u001b[39;49m A new release of pip available: \u001b[0m\u001b[31;49m22.2.2\u001b[0m\u001b[39;49m -> \u001b[0m\u001b[32;49m22.3.1\u001b[0m\n",
      "\u001b[1m[\u001b[0m\u001b[34;49mnotice\u001b[0m\u001b[1;39;49m]\u001b[0m\u001b[39;49m To update, run: \u001b[0m\u001b[32;49mpython3.10 -m pip install --upgrade pip\u001b[0m\n",
      "Note: you may need to restart the kernel to use updated packages.\n"
     ]
    }
   ],
   "source": [
    "pip install matplotlib"
   ]
  },
  {
   "cell_type": "code",
   "execution_count": 5,
   "metadata": {
    "tags": [
     "hide_cell"
    ]
   },
   "outputs": [
    {
     "name": "stdout",
     "output_type": "stream",
     "text": [
      "Requirement already satisfied: cairocffi in /opt/homebrew/lib/python3.10/site-packages (1.4.0)\n",
      "Requirement already satisfied: cffi>=1.1.0 in /opt/homebrew/lib/python3.10/site-packages (from cairocffi) (1.15.1)\n",
      "Requirement already satisfied: pycparser in /opt/homebrew/lib/python3.10/site-packages (from cffi>=1.1.0->cairocffi) (2.21)\n",
      "\n",
      "\u001b[1m[\u001b[0m\u001b[34;49mnotice\u001b[0m\u001b[1;39;49m]\u001b[0m\u001b[39;49m A new release of pip available: \u001b[0m\u001b[31;49m22.2.2\u001b[0m\u001b[39;49m -> \u001b[0m\u001b[32;49m22.3.1\u001b[0m\n",
      "\u001b[1m[\u001b[0m\u001b[34;49mnotice\u001b[0m\u001b[1;39;49m]\u001b[0m\u001b[39;49m To update, run: \u001b[0m\u001b[32;49mpython3.10 -m pip install --upgrade pip\u001b[0m\n",
      "Note: you may need to restart the kernel to use updated packages.\n"
     ]
    }
   ],
   "source": [
    "pip install cairocffi"
   ]
  },
  {
   "attachments": {},
   "cell_type": "markdown",
   "metadata": {},
   "source": [
    "### Basic Graph Creation"
   ]
  },
  {
   "cell_type": "code",
   "execution_count": 28,
   "metadata": {},
   "outputs": [],
   "source": [
    "from hetpy import HetGraph, Node, Edge, HetPaths, MetaPath\n",
    "import matplotlib.pyplot as plt\n",
    "import igraph as ig\n",
    "import pandas as pd\n",
    "\n",
    "import itertools"
   ]
  },
  {
   "attachments": {},
   "cell_type": "markdown",
   "metadata": {},
   "source": [
    "#### Create a simple graph with two node types and one edge type"
   ]
  },
  {
   "attachments": {},
   "cell_type": "markdown",
   "metadata": {},
   "source": [
    "HetPy functions as a standard graph library which uses strongly typed node and edge objects. To create a basic, simple graph, we first create a standard set of two nodes and a single edge that connects those nodes."
   ]
  },
  {
   "cell_type": "code",
   "execution_count": 4,
   "metadata": {},
   "outputs": [],
   "source": [
    "node = Node(\"MockType\",{\"Name\": \"node1\"})\n",
    "node_two = Node(\"MockType2\",{\"Name\": \"node2\"})\n",
    "\n",
    "edge = Edge(node, node_two, True, \"EdgeType\")"
   ]
  },
  {
   "attachments": {},
   "cell_type": "markdown",
   "metadata": {},
   "source": [
    "We can then easily create a heterogeneous graph $G=(V,E)$ defined by set of nodes $V$ and a set of edges $E$ "
   ]
  },
  {
   "cell_type": "code",
   "execution_count": 9,
   "metadata": {},
   "outputs": [
    {
     "data": {
      "image/png": "[encoded data removed]",
      "text/plain": [
       "<Figure size 640x480 with 1 Axes>"
      ]
     },
     "metadata": {},
     "output_type": "display_data"
    }
   ],
   "source": [
    "graph = HetGraph([node, node_two], [edge])\n",
    "color_map = {\n",
    "    \"MockType\": \"yellow\",\n",
    "    \"MockType2\": \"pink\"\n",
    "}\n",
    "visual_style = {\n",
    "    \"vertex_label\": [node.type for node in [node, node_two]],\n",
    "    \"vertex_label_size\": 10\n",
    "}\n",
    "fig, ax = plt.subplots()\n",
    "graph.plot(type_color_map=color_map, axis=ax, plot_args=visual_style)"
   ]
  },
  {
   "attachments": {},
   "cell_type": "markdown",
   "metadata": {},
   "source": [
    "While this graph is quite simple, we can also define edge types by specifying the node types they connect and add a list of these paths to the graph. These semantic paths then enable us to infer edge types while creating the graph. Furthermore, we can add attribtues to the nodes that are handeled just like normal attributes."
   ]
  },
  {
   "cell_type": "code",
   "execution_count": 10,
   "metadata": {},
   "outputs": [],
   "source": [
    "# define paths\n",
    "edge_type_mappings = [((\"Player\",\"Club\"),\"played_for\"), ((\"Club\", \"Shirt\"),\"wears\")]\n",
    "paths = HetPaths(edge_type_mappings)"
   ]
  },
  {
   "cell_type": "code",
   "execution_count": 11,
   "metadata": {},
   "outputs": [],
   "source": [
    "# define nodes and edges\n",
    "players = [Node(\"Player\", {\"Name\": \"Lionel Messi\"}), Node(\"Player\", {\"Name\": \"Toni Kroos\"}), Node(\"Player\", {\"Name\": \"Luis Figo\"})]\n",
    "clubs = [Node(\"Club\", {\"Name\": \"Real Madrid\"}), Node(\"Club\", {\"Name\": \"FC Barcelona\"})]\n",
    "shirts = [Node(\"Shirt\", {\"shirt_color\": \"White\"}), Node(\"Shirt\", {\"shirt_color\": \"Blue and Red\"})]\n",
    "\n",
    "nodes = list(itertools.chain(players, clubs, shirts))\n",
    "edges = [\n",
    "    Edge(players[0], clubs[1], False),\n",
    "    Edge(players[1], clubs[0], False),\n",
    "    Edge(players[2], clubs[1], False),\n",
    "    Edge(players[2], clubs[0], False),\n",
    "    Edge(clubs[0], shirts[0], False),\n",
    "    Edge(clubs[1], shirts[1], False)\n",
    "]\n",
    "\n"
   ]
  },
  {
   "attachments": {},
   "cell_type": "markdown",
   "metadata": {},
   "source": [
    "Then we can create a HetGraph out of the defined objects. You will notice that during creation, the graph constructor will report that some edges have a undefined type and that the type will be infered from the paths assigned to it. After creation, we can check if all edge types are correctly inferred."
   ]
  },
  {
   "cell_type": "code",
   "execution_count": 12,
   "metadata": {},
   "outputs": [
    {
     "name": "stdout",
     "output_type": "stream",
     "text": [
      "Some edge types are undefined. Infering types from paths...\n"
     ]
    }
   ],
   "source": [
    "het_graph = HetGraph(nodes, edges, paths)"
   ]
  },
  {
   "cell_type": "code",
   "execution_count": 13,
   "metadata": {},
   "outputs": [
    {
     "name": "stdout",
     "output_type": "stream",
     "text": [
      "{'wears', 'played_for'}\n"
     ]
    }
   ],
   "source": [
    "print(het_graph.edgeTypes)"
   ]
  },
  {
   "attachments": {},
   "cell_type": "markdown",
   "metadata": {},
   "source": [
    "The HetGraph class asserts also automaticall asserts the defined edge types. If they do not match the specified paths, an error is raised during the object creation."
   ]
  },
  {
   "cell_type": "code",
   "execution_count": 14,
   "metadata": {},
   "outputs": [
    {
     "ename": "TypeException",
     "evalue": "A type error occured: Some defined edge types do not match the defined paths: wears | played_for! Abborting graph creation.",
     "output_type": "error",
     "traceback": [
      "\u001b[0;31m---------------------------------------------------------------------------\u001b[0m",
      "\u001b[0;31mTypeException\u001b[0m                             Traceback (most recent call last)",
      "\u001b[1;32m/Users/I542771/Documents/GitHub/hetpy/demo/hetPyDemo.ipynb Cell 21\u001b[0m in \u001b[0;36m<cell line: 5>\u001b[0;34m()\u001b[0m\n\u001b[1;32m      <a href='vscode-notebook-cell:/Users/I542771/Documents/GitHub/hetpy/demo/hetPyDemo.ipynb#X54sZmlsZQ%3D%3D?line=1'>2</a>\u001b[0m wrong_edges \u001b[39m=\u001b[39m edges\u001b[39m.\u001b[39mcopy()\n\u001b[1;32m      <a href='vscode-notebook-cell:/Users/I542771/Documents/GitHub/hetpy/demo/hetPyDemo.ipynb#X54sZmlsZQ%3D%3D?line=2'>3</a>\u001b[0m wrong_edges[\u001b[39m0\u001b[39m]\u001b[39m.\u001b[39mtype \u001b[39m=\u001b[39m \u001b[39m\"\u001b[39m\u001b[39mwears\u001b[39m\u001b[39m\"\u001b[39m\n\u001b[0;32m----> <a href='vscode-notebook-cell:/Users/I542771/Documents/GitHub/hetpy/demo/hetPyDemo.ipynb#X54sZmlsZQ%3D%3D?line=4'>5</a>\u001b[0m HetGraph(nodes, wrong_edges, paths)\n",
      "File \u001b[0;32m/opt/homebrew/lib/python3.10/site-packages/hetpy/models/hetGraph.py:80\u001b[0m, in \u001b[0;36mHetGraph.__init__\u001b[0;34m(self, nodes, edges, pathList, metaPaths)\u001b[0m\n\u001b[1;32m     75\u001b[0m     \u001b[39mself\u001b[39m\u001b[39m.\u001b[39m__inferEdgeTypes()\n\u001b[1;32m     78\u001b[0m \u001b[39mif\u001b[39;00m \u001b[39mlen\u001b[39m(pathList\u001b[39m.\u001b[39mkeys()) \u001b[39m>\u001b[39m \u001b[39m0\u001b[39m:\n\u001b[1;32m     79\u001b[0m     \u001b[39m# perform assertions\u001b[39;00m\n\u001b[0;32m---> 80\u001b[0m     \u001b[39mself\u001b[39;49m\u001b[39m.\u001b[39;49m_performTypeAssertions()\n\u001b[1;32m     82\u001b[0m \u001b[39mself\u001b[39m\u001b[39m.\u001b[39mnodeTypes \u001b[39m=\u001b[39m \u001b[39mset\u001b[39m([node\u001b[39m.\u001b[39mtype \u001b[39mfor\u001b[39;00m node \u001b[39min\u001b[39;00m nodes])\n\u001b[1;32m     83\u001b[0m \u001b[39mself\u001b[39m\u001b[39m.\u001b[39medgeTypes \u001b[39m=\u001b[39m \u001b[39mset\u001b[39m([edge\u001b[39m.\u001b[39mtype \u001b[39mfor\u001b[39;00m edge \u001b[39min\u001b[39;00m edges])\n",
      "File \u001b[0;32m/opt/homebrew/lib/python3.10/site-packages/hetpy/models/hetGraph.py:58\u001b[0m, in \u001b[0;36mHetGraph._performTypeAssertions\u001b[0;34m(self)\u001b[0m\n\u001b[1;32m     54\u001b[0m \u001b[39mdef\u001b[39;00m \u001b[39m_performTypeAssertions\u001b[39m(\u001b[39mself\u001b[39m) \u001b[39m-\u001b[39m\u001b[39m>\u001b[39m \u001b[39mNone\u001b[39;00m:\n\u001b[1;32m     55\u001b[0m     \u001b[39m\"\"\"\u001b[39;00m\n\u001b[1;32m     56\u001b[0m \u001b[39m    A wrapper function that performs all type assertions during graph creation.\u001b[39;00m\n\u001b[1;32m     57\u001b[0m \u001b[39m    \"\"\"\u001b[39;00m\n\u001b[0;32m---> 58\u001b[0m     \u001b[39mself\u001b[39;49m\u001b[39m.\u001b[39;49m__assertEdgeTypes()\n",
      "File \u001b[0;32m/opt/homebrew/lib/python3.10/site-packages/hetpy/models/hetGraph.py:52\u001b[0m, in \u001b[0;36mHetGraph.__assertEdgeTypes\u001b[0;34m(self)\u001b[0m\n\u001b[1;32m     50\u001b[0m defined_type \u001b[39m=\u001b[39m \u001b[39mself\u001b[39m\u001b[39m.\u001b[39mpaths[edge\u001b[39m.\u001b[39mnodes[\u001b[39m0\u001b[39m]\u001b[39m.\u001b[39mtype, edge\u001b[39m.\u001b[39mnodes[\u001b[39m1\u001b[39m]\u001b[39m.\u001b[39mtype]\n\u001b[1;32m     51\u001b[0m \u001b[39mif\u001b[39;00m edge_type \u001b[39mis\u001b[39;00m \u001b[39mnot\u001b[39;00m defined_type:\n\u001b[0;32m---> 52\u001b[0m     \u001b[39mraise\u001b[39;00m TypeException(\u001b[39mf\u001b[39m\u001b[39m\"\u001b[39m\u001b[39mSome defined edge types do not match the defined paths: \u001b[39m\u001b[39m{\u001b[39;00medge_type\u001b[39m}\u001b[39;00m\u001b[39m | \u001b[39m\u001b[39m{\u001b[39;00mdefined_type\u001b[39m}\u001b[39;00m\u001b[39m! Abborting graph creation.\u001b[39m\u001b[39m\"\u001b[39m)\n",
      "\u001b[0;31mTypeException\u001b[0m: A type error occured: Some defined edge types do not match the defined paths: wears | played_for! Abborting graph creation."
     ]
    }
   ],
   "source": [
    "# assign wrong type to edge\n",
    "wrong_edges = edges.copy()\n",
    "wrong_edges[0].type = \"wears\"\n",
    "\n",
    "HetGraph(nodes, wrong_edges, paths)"
   ]
  },
  {
   "attachments": {},
   "cell_type": "markdown",
   "metadata": {},
   "source": [
    "We can then again use the plotting approach to visualize our HetGraph."
   ]
  },
  {
   "cell_type": "code",
   "execution_count": 23,
   "metadata": {},
   "outputs": [
    {
     "data": {
      "image/png": "[encoded data removed]",
      "text/plain": [
       "<Figure size 640x480 with 1 Axes>"
      ]
     },
     "metadata": {},
     "output_type": "display_data"
    }
   ],
   "source": [
    "nodes = het_graph.nodes\n",
    "vertex_labels = [node.attributes[\"Name\"] for node in nodes[:-2]]\n",
    "vertex_labels = vertex_labels + [node.attributes[\"shirt_color\"] for node in nodes[-2:]]\n",
    "color_map = {\n",
    "    \"Player\": \"orange\",\n",
    "    \"Club\": \"pink\",\n",
    "    \"Shirt\": \"white\"\n",
    "}\n",
    "visual_style = {\n",
    "    \"vertex_label\": vertex_labels,\n",
    "    \"vertex_size\": 0.3,\n",
    "    \"vertex_label_size\": 8,\n",
    "    \"edge_label\": [edge.type for edge in het_graph.edges],\n",
    "    \"edge_label_size\": 8,\n",
    "    \"edge_align_label\": True\n",
    "}\n",
    "layout = het_graph.graph.layout_kamada_kawai()\n",
    "fig, ax = plt.subplots()\n",
    "het_graph.plot(type_color_map=color_map, axis=ax, plot_args=visual_style, layout=layout)"
   ]
  },
  {
   "attachments": {},
   "cell_type": "markdown",
   "metadata": {},
   "source": [
    "#### Meta Paths\n",
    "\n",
    "In order to define rich semantics of the graphs domain on the object itself, the graph constructor also considers list of meta path objects and applies it on the graph. The MetaPath object takes a list of edge types, a description and a required abbreviation. The abbreviation functions as the unique identifier of the meta path. Here, we can reuse edge types defined on the path dictionary used before."
   ]
  },
  {
   "cell_type": "code",
   "execution_count": 24,
   "metadata": {},
   "outputs": [
    {
     "name": "stdout",
     "output_type": "stream",
     "text": [
      "{('Player', 'Club'): 'played_for', ('Club', 'Shirt'): 'wears'}\n"
     ]
    }
   ],
   "source": [
    "edge_type_mappings = [((\"Player\",\"Club\"),\"played_for\"), ((\"Club\", \"Shirt\"),\"wears\")]\n",
    "paths = HetPaths(edge_type_mappings)\n",
    "\n",
    "print(paths)\n",
    "\n",
    "hasPlayedInMetaPath = MetaPath(path=[\"played_for\",\"wears\"], description=\"The player has played in a certain shirt color\", abbreviation=\"hasPlayedIn\")"
   ]
  },
  {
   "cell_type": "code",
   "execution_count": 15,
   "metadata": {},
   "outputs": [],
   "source": [
    "# define nodes and edges\n",
    "players = [Node(\"Player\", {\"Name\": \"Lionel Messi\"}), Node(\"Player\", {\"Name\": \"Toni Kroos\"}), Node(\"Player\", {\"Name\": \"Luis Figo\"})]\n",
    "clubs = [Node(\"Club\", {\"Name\": \"Real Madrid\"}), Node(\"Club\", {\"Name\": \"FC Barcelona\"})]\n",
    "shirts = [Node(\"Shirt\", {\"shirt_color\": \"White\"}), Node(\"Shirt\", {\"shirt_color\": \"Blue and Red\"})]\n",
    "\n",
    "nodes = list(itertools.chain(players, clubs, shirts))\n",
    "edges = [\n",
    "    Edge(players[0], clubs[1], False),\n",
    "    Edge(players[1], clubs[0], False),\n",
    "    Edge(players[2], clubs[1], False),\n",
    "    Edge(players[2], clubs[0], False),\n",
    "    Edge(clubs[0], shirts[0], False),\n",
    "    Edge(clubs[1], shirts[1], False)\n",
    "]"
   ]
  },
  {
   "cell_type": "code",
   "execution_count": 16,
   "metadata": {},
   "outputs": [
    {
     "name": "stdout",
     "output_type": "stream",
     "text": [
      "Some edge types are undefined. Infering types from paths...\n"
     ]
    }
   ],
   "source": [
    "hetGraphWithMetaPaths = HetGraph(nodes, edges, pathList=paths, metaPaths=[hasPlayedInMetaPath])"
   ]
  },
  {
   "attachments": {},
   "cell_type": "markdown",
   "metadata": {},
   "source": [
    "We can check whether the meta path was defined correctly on the graph."
   ]
  },
  {
   "cell_type": "code",
   "execution_count": 17,
   "metadata": {},
   "outputs": [
    {
     "data": {
      "text/plain": [
       "{'hasPlayedIn': ['played_for', 'wears']}"
      ]
     },
     "execution_count": 17,
     "metadata": {},
     "output_type": "execute_result"
    }
   ],
   "source": [
    "hetGraphWithMetaPaths.getDefinedMetaPaths()"
   ]
  },
  {
   "attachments": {},
   "cell_type": "markdown",
   "metadata": {},
   "source": [
    "Also, we can add a meta path in hindsight."
   ]
  },
  {
   "cell_type": "code",
   "execution_count": 18,
   "metadata": {},
   "outputs": [],
   "source": [
    "reverseMetaPath = MetaPath([paths[('Club','Shirt')], paths[('Player','Club')]], \"The shirt color was worn by the player\", \"wasWornBy\")\n",
    "hetGraphWithMetaPaths.addMetaPath(reverseMetaPath)"
   ]
  },
  {
   "cell_type": "code",
   "execution_count": 19,
   "metadata": {},
   "outputs": [
    {
     "data": {
      "text/plain": [
       "{'hasPlayedIn': ['played_for', 'wears'], 'wasWornBy': ['wears', 'played_for']}"
      ]
     },
     "execution_count": 19,
     "metadata": {},
     "output_type": "execute_result"
    }
   ],
   "source": [
    "hetGraphWithMetaPaths.getDefinedMetaPaths()"
   ]
  },
  {
   "attachments": {},
   "cell_type": "markdown",
   "metadata": {},
   "source": [
    "#### Create a graph from a .csv file"
   ]
  },
  {
   "attachments": {},
   "cell_type": "markdown",
   "metadata": {},
   "source": [
    "HetPy provides a utility function to create a heterogeneous graph from a .csv file. For pracitcality reasons, we assume each row of the .csv file to be a node and create edges by specifying the row indices to which a node connects in a special column. "
   ]
  },
  {
   "cell_type": "code",
   "execution_count": 29,
   "metadata": {},
   "outputs": [],
   "source": [
    "from hetpy import fromCSV"
   ]
  },
  {
   "attachments": {},
   "cell_type": "markdown",
   "metadata": {},
   "source": [
    "Consider the following column structure in our demo .csv file:"
   ]
  },
  {
   "cell_type": "code",
   "execution_count": 30,
   "metadata": {},
   "outputs": [
    {
     "data": {
      "text/html": [
       "<div>\n",
       "<style scoped>\n",
       "    .dataframe tbody tr th:only-of-type {\n",
       "        vertical-align: middle;\n",
       "    }\n",
       "\n",
       "    .dataframe tbody tr th {\n",
       "        vertical-align: top;\n",
       "    }\n",
       "\n",
       "    .dataframe thead th {\n",
       "        text-align: right;\n",
       "    }\n",
       "</style>\n",
       "<table border=\"1\" class=\"dataframe\">\n",
       "  <thead>\n",
       "    <tr style=\"text-align: right;\">\n",
       "      <th></th>\n",
       "      <th>type</th>\n",
       "      <th>name</th>\n",
       "      <th>links_to</th>\n",
       "    </tr>\n",
       "    <tr>\n",
       "      <th>index</th>\n",
       "      <th></th>\n",
       "      <th></th>\n",
       "      <th></th>\n",
       "    </tr>\n",
       "  </thead>\n",
       "  <tbody>\n",
       "    <tr>\n",
       "      <th>0</th>\n",
       "      <td>Player</td>\n",
       "      <td>Lionel Messi</td>\n",
       "      <td>[4]</td>\n",
       "    </tr>\n",
       "    <tr>\n",
       "      <th>1</th>\n",
       "      <td>Player</td>\n",
       "      <td>Luis Figo</td>\n",
       "      <td>[3, 4]</td>\n",
       "    </tr>\n",
       "    <tr>\n",
       "      <th>2</th>\n",
       "      <td>Player</td>\n",
       "      <td>Sergio Ramos</td>\n",
       "      <td>[3]</td>\n",
       "    </tr>\n",
       "    <tr>\n",
       "      <th>3</th>\n",
       "      <td>Club</td>\n",
       "      <td>Real Madrid</td>\n",
       "      <td>[5]</td>\n",
       "    </tr>\n",
       "    <tr>\n",
       "      <th>4</th>\n",
       "      <td>Club</td>\n",
       "      <td>FC Barcelona</td>\n",
       "      <td>[6]</td>\n",
       "    </tr>\n",
       "    <tr>\n",
       "      <th>5</th>\n",
       "      <td>Stadium</td>\n",
       "      <td>Bernabeu</td>\n",
       "      <td>[3]</td>\n",
       "    </tr>\n",
       "    <tr>\n",
       "      <th>6</th>\n",
       "      <td>Stadium</td>\n",
       "      <td>Camp Nou</td>\n",
       "      <td>[4]</td>\n",
       "    </tr>\n",
       "  </tbody>\n",
       "</table>\n",
       "</div>"
      ],
      "text/plain": [
       "          type          name links_to\n",
       "index                                \n",
       "0       Player  Lionel Messi      [4]\n",
       "1       Player     Luis Figo   [3, 4]\n",
       "2       Player  Sergio Ramos      [3]\n",
       "3         Club   Real Madrid      [5]\n",
       "4         Club  FC Barcelona      [6]\n",
       "5      Stadium      Bernabeu      [3]\n",
       "6      Stadium      Camp Nou      [4]"
      ]
     },
     "execution_count": 30,
     "metadata": {},
     "output_type": "execute_result"
    }
   ],
   "source": [
    "data = pd.read_csv('./playClubData.csv', index_col=\"index\")\n",
    "data"
   ]
  },
  {
   "attachments": {},
   "cell_type": "markdown",
   "metadata": {},
   "source": [
    "We specify the type column and the foreign key column as function parameters and can then easily load the data into a csv file:"
   ]
  },
  {
   "cell_type": "code",
   "execution_count": 31,
   "metadata": {},
   "outputs": [
    {
     "data": {
      "text/plain": [
       "{'Club', 'Player', 'Stadium'}"
      ]
     },
     "execution_count": 31,
     "metadata": {},
     "output_type": "execute_result"
    }
   ],
   "source": [
    "column_attribute_map = {'Name': 'name'}\n",
    "mock_graph = fromCSV('./playClubData.csv','type','links_to',consider_edge_directions=False, node_attribute_column_map=column_attribute_map)\n",
    "\n",
    "mock_graph.nodeTypes"
   ]
  },
  {
   "attachments": {},
   "cell_type": "markdown",
   "metadata": {},
   "source": [
    "The function also allows to pass arguments directly to the graphs initialization function as a dictionary. This way, we can also sepcify a network schema and a list of meta paths for the graph we want to create from a csv file."
   ]
  },
  {
   "cell_type": "code",
   "execution_count": 35,
   "metadata": {},
   "outputs": [
    {
     "name": "stdout",
     "output_type": "stream",
     "text": [
      "Some edge types are undefined. Infering types from paths...\n"
     ]
    },
    {
     "data": {
      "text/plain": [
       "{('Player', 'Club'): 'played_for',\n",
       " ('Club', 'Stadium'): 'plays_in',\n",
       " ('Stadium', 'Club'): 'is_owned_by'}"
      ]
     },
     "execution_count": 35,
     "metadata": {},
     "output_type": "execute_result"
    }
   ],
   "source": [
    "edge_type_mappings = [((\"Player\",\"Club\"),\"played_for\"), ((\"Club\", \"Stadium\"),\"plays_in\"), (('Stadium', 'Club'),\"is_owned_by\")]\n",
    "paths = HetPaths(edge_type_mappings)\n",
    "\n",
    "has_played_in_meta_path = MetaPath(path=[\"played_for\",\"wears\"], description=\"The player has played in a certain shirt color\", abbreviation=\"hasPlayedIn\")\n",
    "\n",
    "graph_args = {\n",
    "    'pathList': paths,\n",
    "    'metaPaths': [has_played_in_meta_path]\n",
    "}\n",
    "\n",
    "loaded_graph = fromCSV('./playClubData.csv','type','links_to',consider_edge_directions=False, node_attribute_column_map=column_attribute_map, graphArgs=graph_args)\n",
    "\n",
    "loaded_graph.paths"
   ]
  },
  {
   "cell_type": "code",
   "execution_count": 36,
   "metadata": {},
   "outputs": [
    {
     "data": {
      "image/png": "[encoded data removed]",
      "text/plain": [
       "<Figure size 640x480 with 1 Axes>"
      ]
     },
     "metadata": {},
     "output_type": "display_data"
    }
   ],
   "source": [
    "type_color_map = {\n",
    "    \"Player\": \"black\",\n",
    "    \"Club\": \"pink\",\n",
    "    \"Stadium\": \"blue\"\n",
    "}\n",
    "\n",
    "layout = loaded_graph.graph.layout_kamada_kawai()\n",
    "\n",
    "fig, ax = plt.subplots()\n",
    "\n",
    "loaded_graph.plot(type_color_map=type_color_map, axis=ax, layout=layout)\n"
   ]
  }
 ],
 "metadata": {
  "kernelspec": {
   "display_name": "Python 3",
   "language": "python",
   "name": "python3"
  },
  "language_info": {
   "codemirror_mode": {
    "name": "ipython",
    "version": 3
   },
   "file_extension": ".py",
   "mimetype": "text/x-python",
   "name": "python",
   "nbconvert_exporter": "python",
   "pygments_lexer": "ipython3",
   "version": "3.10.6"
  },
  "orig_nbformat": 4,
  "vscode": {
   "interpreter": {
    "hash": "b0fa6594d8f4cbf19f97940f81e996739fb7646882a419484c72d19e05852a7e"
   }
  }
 },
 "nbformat": 4,
 "nbformat_minor": 2
}
